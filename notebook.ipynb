{
 "cells": [
  {
   "cell_type": "markdown",
   "id": "55bc86ed-e40e-483a-a1e8-c6a666ed8a84",
   "metadata": {},
   "source": [
    "![star_wars_unsplash](star_wars_unsplash.jpg)\n",
    "\n",
    "Lego is a household name across the world, supported by a diverse toy line, hit movies, and a series of successful video games. In this project, we are going to explore a key development in the history of Lego: the introduction of licensed sets such as Star Wars, Super Heroes, and Harry Potter.\n",
    "\n",
    "The introduction of its first licensed series, Star Wars, was a hit that sparked a series of collaborations with more themed sets.\n",
    "\n",
    "\n",
    "## lego_sets.csv\n",
    "\n",
    "| Column     | Description              |\n",
    "|------------|--------------------------|\n",
    "| `\"set_num\"` | A code that is unique to each set in the dataset. This column is critical, and a missing value indicates the set is a duplicate or invalid! |\n",
    "| `\"name\"` | The name of the set. |\n",
    "| `\"year\"` | The date the set was released. |\n",
    "| `\"num_parts\"` | The number of parts contained in the set. This column is not central to our analyses, so missing values are acceptable. |\n",
    "| `\"theme_name\"` | The name of the sub-theme of the set. |\n",
    "| `\"parent_theme\"` | The name of the parent theme the set belongs to. Matches the name column of the parent_themes csv file.\n",
    "|\n",
    "\n",
    "## parent_themes.csv\n",
    "\n",
    "| Column     | Description              |\n",
    "|------------|--------------------------|\n",
    "| `\"id\"` | A code that is unique to every theme. |\n",
    "| `\"name\"` | The name of the parent theme. |\n",
    "| `\"is_licensed\"` | A Boolean column specifying whether the theme is a licensed theme. |"
   ]
  },
  {
   "cell_type": "code",
   "execution_count": null,
   "id": "a92fafb0-d54b-44a4-bad0-e7bb8c0df342",
   "metadata": {
    "executionCancelledAt": null,
    "executionTime": 52,
    "lastExecutedAt": 1741442906043,
    "lastExecutedByKernel": "b9f1c683-e968-4a28-9725-da1e3a5a92bb",
    "lastScheduledRunId": null,
    "lastSuccessfullyExecutedCode": "# Import pandas, read and inspect the datasets\nimport pandas as pd\n\nlego_sets = pd.read_csv('data/lego_sets.csv')\nlego_sets.head()\n\nlego_sets_clean = lego_sets.dropna(subset=['set_num','name','theme_name'])\nlego_sets_clean.head()",
    "outputsMetadata": {
     "0": {
      "height": 550,
      "tableState": {
       "customFilter": {
        "const": {
         "type": "boolean",
         "valid": true,
         "value": true
        },
        "id": "cc2987d9-7dd8-401a-8ba0-31940bbca524",
        "nodeType": "const"
       },
       "quickFilterText": ""
      },
      "type": "dataFrame"
     },
     "1": {
      "height": 196,
      "type": "dataFrame"
     }
    }
   },
   "outputs": [
    {
     "data": {
      "application/com.datacamp.data-table.v2+json": {
       "table": {
        "data": {
         "index": [
          0,
          1,
          2,
          3,
          4
         ],
         "name": [
          "Weetabix Castle",
          "Town Mini-Figures",
          "Castle 2 for 1 Bonus Offer",
          "Space Mini-Figures",
          "Space Mini-Figures"
         ],
         "num_parts": [
          471,
          null,
          null,
          12,
          12
         ],
         "parent_theme": [
          "Legoland",
          "Town",
          "Castle",
          "Space",
          "Space"
         ],
         "set_num": [
          "00-1",
          "0011-2",
          "0011-3",
          "0012-1",
          "0013-1"
         ],
         "theme_name": [
          "Castle",
          "Supplemental",
          "Lion Knights",
          "Supplemental",
          "Supplemental"
         ],
         "year": [
          1970,
          1978,
          1987,
          1979,
          1979
         ]
        },
        "schema": {
         "fields": [
          {
           "name": "index",
           "type": "integer"
          },
          {
           "name": "set_num",
           "type": "string"
          },
          {
           "name": "name",
           "type": "string"
          },
          {
           "name": "year",
           "type": "integer"
          },
          {
           "name": "num_parts",
           "type": "number"
          },
          {
           "name": "theme_name",
           "type": "string"
          },
          {
           "name": "parent_theme",
           "type": "string"
          }
         ],
         "pandas_version": "1.4.0",
         "primaryKey": [
          "index"
         ]
        }
       },
       "total_rows": 5,
       "truncation_type": null
      },
      "text/html": [
       "<div>\n",
       "<style scoped>\n",
       "    .dataframe tbody tr th:only-of-type {\n",
       "        vertical-align: middle;\n",
       "    }\n",
       "\n",
       "    .dataframe tbody tr th {\n",
       "        vertical-align: top;\n",
       "    }\n",
       "\n",
       "    .dataframe thead th {\n",
       "        text-align: right;\n",
       "    }\n",
       "</style>\n",
       "<table border=\"1\" class=\"dataframe\">\n",
       "  <thead>\n",
       "    <tr style=\"text-align: right;\">\n",
       "      <th></th>\n",
       "      <th>set_num</th>\n",
       "      <th>name</th>\n",
       "      <th>year</th>\n",
       "      <th>num_parts</th>\n",
       "      <th>theme_name</th>\n",
       "      <th>parent_theme</th>\n",
       "    </tr>\n",
       "  </thead>\n",
       "  <tbody>\n",
       "    <tr>\n",
       "      <th>0</th>\n",
       "      <td>00-1</td>\n",
       "      <td>Weetabix Castle</td>\n",
       "      <td>1970</td>\n",
       "      <td>471.0</td>\n",
       "      <td>Castle</td>\n",
       "      <td>Legoland</td>\n",
       "    </tr>\n",
       "    <tr>\n",
       "      <th>1</th>\n",
       "      <td>0011-2</td>\n",
       "      <td>Town Mini-Figures</td>\n",
       "      <td>1978</td>\n",
       "      <td>NaN</td>\n",
       "      <td>Supplemental</td>\n",
       "      <td>Town</td>\n",
       "    </tr>\n",
       "    <tr>\n",
       "      <th>2</th>\n",
       "      <td>0011-3</td>\n",
       "      <td>Castle 2 for 1 Bonus Offer</td>\n",
       "      <td>1987</td>\n",
       "      <td>NaN</td>\n",
       "      <td>Lion Knights</td>\n",
       "      <td>Castle</td>\n",
       "    </tr>\n",
       "    <tr>\n",
       "      <th>3</th>\n",
       "      <td>0012-1</td>\n",
       "      <td>Space Mini-Figures</td>\n",
       "      <td>1979</td>\n",
       "      <td>12.0</td>\n",
       "      <td>Supplemental</td>\n",
       "      <td>Space</td>\n",
       "    </tr>\n",
       "    <tr>\n",
       "      <th>4</th>\n",
       "      <td>0013-1</td>\n",
       "      <td>Space Mini-Figures</td>\n",
       "      <td>1979</td>\n",
       "      <td>12.0</td>\n",
       "      <td>Supplemental</td>\n",
       "      <td>Space</td>\n",
       "    </tr>\n",
       "  </tbody>\n",
       "</table>\n",
       "</div>"
      ],
      "text/plain": [
       "  set_num                        name  ...    theme_name  parent_theme\n",
       "0    00-1             Weetabix Castle  ...        Castle      Legoland\n",
       "1  0011-2           Town Mini-Figures  ...  Supplemental          Town\n",
       "2  0011-3  Castle 2 for 1 Bonus Offer  ...  Lion Knights        Castle\n",
       "3  0012-1          Space Mini-Figures  ...  Supplemental         Space\n",
       "4  0013-1          Space Mini-Figures  ...  Supplemental         Space\n",
       "\n",
       "[5 rows x 6 columns]"
      ]
     },
     "execution_count": 45,
     "metadata": {
      "application/com.datacamp.data-table.v2+json": {
       "status": "success"
      }
     },
     "output_type": "execute_result"
    }
   ],
   "source": [
    "import pandas as pd\n",
    "\n",
    "lego_sets = pd.read_csv('data/lego_sets.csv')\n",
    "lego_sets.head()\n",
    "\n",
    "lego_sets_clean = lego_sets.dropna(subset=['set_num','name','theme_name'])\n",
    "lego_sets_clean.head()"
   ]
  },
  {
   "cell_type": "code",
   "execution_count": 46,
   "id": "bae28977-3536-43e7-9ac2-7fcebc4b68ee",
   "metadata": {
    "executionCancelledAt": null,
    "executionTime": 53,
    "lastExecutedAt": 1741442906096,
    "lastExecutedByKernel": "b9f1c683-e968-4a28-9725-da1e3a5a92bb",
    "lastScheduledRunId": null,
    "lastSuccessfullyExecutedCode": "parent_themes = pd.read_csv('data/parent_themes.csv')\nparent_themes.head(50)\nlicensed_themes = parent_themes[parent_themes[\"is_licensed\"]][\"name\"]\nlicensed_themes.head()",
    "outputsMetadata": {
     "0": {
      "height": 550,
      "tableState": {
       "customFilter": {
        "const": {
         "type": "boolean",
         "valid": true,
         "value": true
        },
        "id": "cc2987d9-7dd8-401a-8ba0-31940bbca524",
        "nodeType": "const"
       },
       "quickFilterText": ""
      },
      "type": "dataFrame"
     }
    }
   },
   "outputs": [
    {
     "data": {
      "application/com.datacamp.data-table.v2+json": {
       "table": {
        "data": {
         "index": [
          7,
          12,
          16,
          17,
          18
         ],
         "name": [
          "Star Wars",
          "Harry Potter",
          "Pirates of the Caribbean",
          "Indiana Jones",
          "Cars"
         ]
        },
        "schema": {
         "fields": [
          {
           "name": "index",
           "type": "integer"
          },
          {
           "name": "name",
           "type": "string"
          }
         ],
         "pandas_version": "1.4.0",
         "primaryKey": [
          "index"
         ]
        }
       },
       "total_rows": 5,
       "truncation_type": null
      },
      "text/plain": [
       "7                    Star Wars\n",
       "12                Harry Potter\n",
       "16    Pirates of the Caribbean\n",
       "17               Indiana Jones\n",
       "18                        Cars\n",
       "Name: name, dtype: object"
      ]
     },
     "execution_count": 46,
     "metadata": {
      "application/com.datacamp.data-table.v2+json": {
       "status": "success"
      }
     },
     "output_type": "execute_result"
    }
   ],
   "source": [
    "parent_themes = pd.read_csv('data/parent_themes.csv')\n",
    "parent_themes.head(50)\n",
    "licensed_themes = parent_themes[parent_themes[\"is_licensed\"]][\"name\"]\n",
    "licensed_themes.head()"
   ]
  },
  {
   "cell_type": "code",
   "execution_count": 47,
   "id": "050535e3-612c-4eee-a1c8-413928ff13ca",
   "metadata": {
    "executionCancelledAt": null,
    "executionTime": 47,
    "lastExecutedAt": 1741442906143,
    "lastExecutedByKernel": "b9f1c683-e968-4a28-9725-da1e3a5a92bb",
    "lastScheduledRunId": null,
    "lastSuccessfullyExecutedCode": "licensed = lego_sets_clean[\"parent_theme\"].isin(licensed_themes)\nlicensed_sets = lego_sets_clean[licensed]\nlicensed_sets.head()",
    "outputsMetadata": {
     "0": {
      "height": 550,
      "tableState": {
       "customFilter": {
        "const": {
         "type": "boolean",
         "valid": true,
         "value": true
        },
        "id": "cc2987d9-7dd8-401a-8ba0-31940bbca524",
        "nodeType": "const"
       },
       "quickFilterText": ""
      },
      "type": "dataFrame"
     }
    }
   },
   "outputs": [
    {
     "data": {
      "application/com.datacamp.data-table.v2+json": {
       "table": {
        "data": {
         "index": [
          44,
          45,
          54,
          57,
          95
         ],
         "name": [
          "Darth Maul",
          "Rebel Blockade Runner - UCS",
          "Naboo Starfighter - UCS",
          "Imperial Star Destroyer - UCS",
          "Spider-Man Action Pack"
         ],
         "num_parts": [
          1868,
          null,
          null,
          3115,
          25
         ],
         "parent_theme": [
          "Star Wars",
          "Star Wars",
          "Star Wars",
          "Star Wars",
          "Super Heroes"
         ],
         "set_num": [
          "10018-1",
          "10019-1",
          "10026-1",
          "10030-1",
          "10075-1"
         ],
         "theme_name": [
          "Star Wars",
          "Star Wars Episode 4/5/6",
          "Star Wars Episode 1",
          "Star Wars Episode 4/5/6",
          "Spider-Man"
         ],
         "year": [
          2001,
          2001,
          2002,
          2002,
          2002
         ]
        },
        "schema": {
         "fields": [
          {
           "name": "index",
           "type": "integer"
          },
          {
           "name": "set_num",
           "type": "string"
          },
          {
           "name": "name",
           "type": "string"
          },
          {
           "name": "year",
           "type": "integer"
          },
          {
           "name": "num_parts",
           "type": "number"
          },
          {
           "name": "theme_name",
           "type": "string"
          },
          {
           "name": "parent_theme",
           "type": "string"
          }
         ],
         "pandas_version": "1.4.0",
         "primaryKey": [
          "index"
         ]
        }
       },
       "total_rows": 5,
       "truncation_type": null
      },
      "text/html": [
       "<div>\n",
       "<style scoped>\n",
       "    .dataframe tbody tr th:only-of-type {\n",
       "        vertical-align: middle;\n",
       "    }\n",
       "\n",
       "    .dataframe tbody tr th {\n",
       "        vertical-align: top;\n",
       "    }\n",
       "\n",
       "    .dataframe thead th {\n",
       "        text-align: right;\n",
       "    }\n",
       "</style>\n",
       "<table border=\"1\" class=\"dataframe\">\n",
       "  <thead>\n",
       "    <tr style=\"text-align: right;\">\n",
       "      <th></th>\n",
       "      <th>set_num</th>\n",
       "      <th>name</th>\n",
       "      <th>year</th>\n",
       "      <th>num_parts</th>\n",
       "      <th>theme_name</th>\n",
       "      <th>parent_theme</th>\n",
       "    </tr>\n",
       "  </thead>\n",
       "  <tbody>\n",
       "    <tr>\n",
       "      <th>44</th>\n",
       "      <td>10018-1</td>\n",
       "      <td>Darth Maul</td>\n",
       "      <td>2001</td>\n",
       "      <td>1868.0</td>\n",
       "      <td>Star Wars</td>\n",
       "      <td>Star Wars</td>\n",
       "    </tr>\n",
       "    <tr>\n",
       "      <th>45</th>\n",
       "      <td>10019-1</td>\n",
       "      <td>Rebel Blockade Runner - UCS</td>\n",
       "      <td>2001</td>\n",
       "      <td>NaN</td>\n",
       "      <td>Star Wars Episode 4/5/6</td>\n",
       "      <td>Star Wars</td>\n",
       "    </tr>\n",
       "    <tr>\n",
       "      <th>54</th>\n",
       "      <td>10026-1</td>\n",
       "      <td>Naboo Starfighter - UCS</td>\n",
       "      <td>2002</td>\n",
       "      <td>NaN</td>\n",
       "      <td>Star Wars Episode 1</td>\n",
       "      <td>Star Wars</td>\n",
       "    </tr>\n",
       "    <tr>\n",
       "      <th>57</th>\n",
       "      <td>10030-1</td>\n",
       "      <td>Imperial Star Destroyer - UCS</td>\n",
       "      <td>2002</td>\n",
       "      <td>3115.0</td>\n",
       "      <td>Star Wars Episode 4/5/6</td>\n",
       "      <td>Star Wars</td>\n",
       "    </tr>\n",
       "    <tr>\n",
       "      <th>95</th>\n",
       "      <td>10075-1</td>\n",
       "      <td>Spider-Man Action Pack</td>\n",
       "      <td>2002</td>\n",
       "      <td>25.0</td>\n",
       "      <td>Spider-Man</td>\n",
       "      <td>Super Heroes</td>\n",
       "    </tr>\n",
       "  </tbody>\n",
       "</table>\n",
       "</div>"
      ],
      "text/plain": [
       "    set_num  ...  parent_theme\n",
       "44  10018-1  ...     Star Wars\n",
       "45  10019-1  ...     Star Wars\n",
       "54  10026-1  ...     Star Wars\n",
       "57  10030-1  ...     Star Wars\n",
       "95  10075-1  ...  Super Heroes\n",
       "\n",
       "[5 rows x 6 columns]"
      ]
     },
     "execution_count": 47,
     "metadata": {
      "application/com.datacamp.data-table.v2+json": {
       "status": "success"
      }
     },
     "output_type": "execute_result"
    }
   ],
   "source": [
    "licensed = lego_sets_clean[\"parent_theme\"].isin(licensed_themes)\n",
    "licensed_sets = lego_sets_clean[licensed]\n",
    "licensed_sets.head()"
   ]
  },
  {
   "cell_type": "code",
   "execution_count": 48,
   "id": "ef51630d-981d-43c0-a1a8-7042f66e35b3",
   "metadata": {
    "executionCancelledAt": null,
    "executionTime": 48,
    "lastExecutedAt": 1741442906191,
    "lastExecutedByKernel": "b9f1c683-e968-4a28-9725-da1e3a5a92bb",
    "lastScheduledRunId": null,
    "lastSuccessfullyExecutedCode": "all_sets = len(licensed_sets)\n#print (all_sets)\nstar_wars_sets = len(licensed_sets[licensed_sets[\"parent_theme\"] == \"Star Wars\"])\nthe_force = int((star_wars_sets / all_sets) * 100)\nprint(f'The percentage of licensed sets that are Star Wars themed is {the_force}%.')",
    "outputsMetadata": {
     "0": {
      "height": 39,
      "type": "stream"
     }
    }
   },
   "outputs": [
    {
     "name": "stdout",
     "output_type": "stream",
     "text": [
      "The percentage of licensed sets that are Star Wars themed is 51%.\n"
     ]
    }
   ],
   "source": [
    "all_sets = len(licensed_sets)\n",
    "#print (all_sets)\n",
    "star_wars_sets = len(licensed_sets[licensed_sets[\"parent_theme\"] == \"Star Wars\"])\n",
    "the_force = int((star_wars_sets / all_sets) * 100)\n",
    "print(f'The percentage of licensed sets that are Star Wars themed is {the_force}%.')"
   ]
  },
  {
   "cell_type": "code",
   "execution_count": 49,
   "id": "ea9655ee-bbac-40a8-9112-88fca3d94127",
   "metadata": {
    "executionCancelledAt": null,
    "executionTime": 52,
    "lastExecutedAt": 1741442906243,
    "lastExecutedByKernel": "b9f1c683-e968-4a28-9725-da1e3a5a92bb",
    "lastScheduledRunId": null,
    "lastSuccessfullyExecutedCode": "licensed_pivot = licensed_sets.pivot_table(index = \"year\", columns = \"parent_theme\", values=\"set_num\", aggfunc=\"count\")"
   },
   "outputs": [],
   "source": [
    "licensed_pivot = licensed_sets.pivot_table(index = \"year\", columns = \"parent_theme\", values=\"set_num\", aggfunc=\"count\")"
   ]
  },
  {
   "cell_type": "code",
   "execution_count": 50,
   "id": "7b17e99e-2159-46ac-a08e-55dfbd72b636",
   "metadata": {
    "executionCancelledAt": null,
    "executionTime": 51,
    "lastExecutedAt": 1741442906294,
    "lastExecutedByKernel": "b9f1c683-e968-4a28-9725-da1e3a5a92bb",
    "lastScheduledRunId": null,
    "lastSuccessfullyExecutedCode": "licensed_pivot.sort_values(by=\"Star Wars\", ascending=False)[\"Star Wars\"]\nnew_era=2016\nprint(f\"The year when the most Star Wars sets were released was {new_era}.\")",
    "outputsMetadata": {
     "0": {
      "height": 39,
      "type": "stream"
     }
    }
   },
   "outputs": [
    {
     "name": "stdout",
     "output_type": "stream",
     "text": [
      "The year when the most Star Wars sets were released was 2016.\n"
     ]
    }
   ],
   "source": [
    "licensed_pivot.sort_values(by=\"Star Wars\", ascending=False)[\"Star Wars\"]\n",
    "new_era=2016\n",
    "print(f\"The year when the most Star Wars sets were released was {new_era}.\")"
   ]
  }
 ],
 "metadata": {
  "colab": {
   "name": "Welcome to DataCamp Workspaces.ipynb",
   "provenance": []
  },
  "editor": "DataLab",
  "kernelspec": {
   "display_name": "Python 3 (ipykernel)",
   "language": "python",
   "name": "python3"
  },
  "language_info": {
   "codemirror_mode": {
    "name": "ipython",
    "version": 3
   },
   "file_extension": ".py",
   "mimetype": "text/x-python",
   "name": "python",
   "nbconvert_exporter": "python",
   "pygments_lexer": "ipython3",
   "version": "3.8.10"
  }
 },
 "nbformat": 4,
 "nbformat_minor": 5
}
